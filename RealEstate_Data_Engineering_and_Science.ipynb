{
 "cells": [
  {
   "cell_type": "markdown",
   "id": "7e1dc74a",
   "metadata": {},
   "source": [
    "# Data Engineering and Data Science\n",
    "\n",
    "This notebook demonstrates data engineering and data science workflows using Python."
   ]
  },
  {
   "cell_type": "code",
   "execution_count": null,
   "id": "6d37cc4b",
   "metadata": {},
   "outputs": [],
   "source": [
    "\n",
    "# Import necessary libraries\n",
    "import pandas as pd\n",
    "import numpy as np\n",
    "from sklearn.model_selection import train_test_split\n",
    "from sklearn.linear_model import LinearRegression\n",
    "from sklearn.metrics import mean_squared_error, r2_score\n"
   ]
  },
  {
   "cell_type": "markdown",
   "id": "8fd36f9b",
   "metadata": {},
   "source": [
    "## Load Dataset"
   ]
  },
  {
   "cell_type": "code",
   "execution_count": null,
   "id": "6064783b",
   "metadata": {},
   "outputs": [],
   "source": [
    "\n",
    "# Load real estate sales dataset (example dataset for demonstration)\n",
    "real_estate_sales = pd.read_csv('aggregated_real_estate_sales.csv')\n",
    "\n",
    "# Display the first few rows\n",
    "real_estate_sales.head()\n"
   ]
  },
  {
   "cell_type": "markdown",
   "id": "e00842c4",
   "metadata": {},
   "source": [
    "## Data Cleaning and Preprocessing"
   ]
  },
  {
   "cell_type": "code",
   "execution_count": null,
   "id": "b7ec0503",
   "metadata": {},
   "outputs": [],
   "source": [
    "\n",
    "# Check for missing values\n",
    "print(\"Missing Values:\")\n",
    "print(real_estate_sales.isnull().sum())\n",
    "\n",
    "# Handle missing values (if any) - here, we'll fill with median values as an example\n",
    "real_estate_sales.fillna(real_estate_sales.median(), inplace=True)\n",
    "\n",
    "# Verify no missing values remain\n",
    "print(\"Missing Values after filling:\")\n",
    "print(real_estate_sales.isnull().sum())\n"
   ]
  },
  {
   "cell_type": "markdown",
   "id": "ce775b4d",
   "metadata": {},
   "source": [
    "## Feature Engineering"
   ]
  },
  {
   "cell_type": "code",
   "execution_count": null,
   "id": "26ed25c0",
   "metadata": {},
   "outputs": [],
   "source": [
    "\n",
    "# Example: Add a new feature - Price per Unit\n",
    "real_estate_sales['Price_per_Unit'] = real_estate_sales['Total_Sales'] / real_estate_sales['Sales_Units']\n",
    "\n",
    "# Drop unnecessary columns for modeling (e.g., 'Date')\n",
    "real_estate_sales.drop(columns=['Date'], inplace=True)\n",
    "\n",
    "# Display the transformed dataset\n",
    "real_estate_sales.head()\n"
   ]
  },
  {
   "cell_type": "markdown",
   "id": "c2b99973",
   "metadata": {},
   "source": [
    "## Train-Test Split"
   ]
  },
  {
   "cell_type": "code",
   "execution_count": null,
   "id": "7d2a0f77",
   "metadata": {},
   "outputs": [],
   "source": [
    "\n",
    "# Define features (X) and target (y)\n",
    "X = real_estate_sales[['Sales_Units', 'Price_per_Unit']]\n",
    "y = real_estate_sales['Average_Price']\n",
    "\n",
    "# Split data into training and testing sets\n",
    "X_train, X_test, y_train, y_test = train_test_split(X, y, test_size=0.2, random_state=42)\n",
    "\n",
    "print(\"Training data shape:\", X_train.shape)\n",
    "print(\"Testing data shape:\", X_test.shape)\n"
   ]
  },
  {
   "cell_type": "markdown",
   "id": "b9495bed",
   "metadata": {},
   "source": [
    "## Build and Train Model"
   ]
  },
  {
   "cell_type": "code",
   "execution_count": null,
   "id": "a8610700",
   "metadata": {},
   "outputs": [],
   "source": [
    "\n",
    "# Initialize and train a Linear Regression model\n",
    "model = LinearRegression()\n",
    "model.fit(X_train, y_train)\n",
    "\n",
    "# Display model coefficients\n",
    "print(\"Model Coefficients:\", model.coef_)\n",
    "print(\"Model Intercept:\", model.intercept_)\n"
   ]
  },
  {
   "cell_type": "markdown",
   "id": "63506761",
   "metadata": {},
   "source": [
    "## Model Evaluation"
   ]
  },
  {
   "cell_type": "code",
   "execution_count": null,
   "id": "9624dd40",
   "metadata": {},
   "outputs": [],
   "source": [
    "\n",
    "# Make predictions on the test set\n",
    "y_pred = model.predict(X_test)\n",
    "\n",
    "# Evaluate the model\n",
    "mse = mean_squared_error(y_test, y_pred)\n",
    "r2 = r2_score(y_test, y_pred)\n",
    "\n",
    "print(\"Mean Squared Error:\", mse)\n",
    "print(\"R-squared:\", r2)\n"
   ]
  },
  {
   "cell_type": "markdown",
   "id": "8fcad4ec",
   "metadata": {},
   "source": [
    "## Summary and Insights\n",
    "\n",
    "- The notebook demonstrates a basic workflow for data engineering and data science.\n",
    "- A Linear Regression model was built to predict the average price of properties based on engineered features."
   ]
  }
 ],
 "metadata": {},
 "nbformat": 4,
 "nbformat_minor": 5
}
