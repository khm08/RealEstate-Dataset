{
 "cells": [
  {
   "cell_type": "markdown",
   "id": "34133808",
   "metadata": {},
   "source": [
    "# RealEstate Insights Analysis\n",
    "\n",
    "This notebook provides data analysis and visualization for the RealEstate InsightPro project."
   ]
  },
  {
   "cell_type": "code",
   "execution_count": null,
   "id": "0a28ba58",
   "metadata": {},
   "outputs": [],
   "source": [
    "\n",
    "import pandas as pd\n",
    "import matplotlib.pyplot as plt\n",
    "\n",
    "# Load datasets\n",
    "real_estate_sales = pd.read_csv('aggregated_real_estate_sales.csv')\n",
    "hospitality_data = pd.read_csv('aggregated_hospitality_data.csv')\n",
    "market_trends = pd.read_csv('transformed_market_trends.csv')\n"
   ]
  },
  {
   "cell_type": "markdown",
   "id": "41c1fb25",
   "metadata": {},
   "source": [
    "## Visualization 1: Top 10 Cities by Total Sales"
   ]
  },
  {
   "cell_type": "code",
   "execution_count": null,
   "id": "f0182592",
   "metadata": {},
   "outputs": [],
   "source": [
    "\n",
    "# Aggregate data by city to find total sales\n",
    "city_sales = real_estate_sales.groupby('City')['Total_Sales'].sum().sort_values(ascending=False)\n",
    "\n",
    "# Plot the top 10 cities by total sales\n",
    "plt.figure(figsize=(10, 6))\n",
    "city_sales.plot(kind='bar', color='skyblue')\n",
    "plt.title('Total Sales by City (Top 10)', fontsize=14)\n",
    "plt.xlabel('City', fontsize=12)\n",
    "plt.ylabel('Total Sales (in billions)', fontsize=12)\n",
    "plt.xticks(rotation=45)\n",
    "plt.grid(axis='y', linestyle='--', alpha=0.7)\n",
    "plt.tight_layout()\n",
    "plt.show()\n"
   ]
  },
  {
   "cell_type": "markdown",
   "id": "6563d350",
   "metadata": {},
   "source": [
    "## Visualization 2: Monthly Average Sale Price Trends"
   ]
  },
  {
   "cell_type": "code",
   "execution_count": null,
   "id": "dc28a7f5",
   "metadata": {},
   "outputs": [],
   "source": [
    "\n",
    "# Group data by date to find average sale prices\n",
    "monthly_prices = real_estate_sales.groupby('Date')['Average_Price'].mean()\n",
    "\n",
    "# Plot the monthly average sale price trends\n",
    "plt.figure(figsize=(12, 6))\n",
    "monthly_prices.plot(kind='line', marker='o', linestyle='-', color='orange')\n",
    "plt.title('Monthly Average Sale Price Trends', fontsize=14)\n",
    "plt.xlabel('Date', fontsize=12)\n",
    "plt.ylabel('Average Price', fontsize=12)\n",
    "plt.xticks(rotation=45)\n",
    "plt.grid(axis='both', linestyle='--', alpha=0.7)\n",
    "plt.tight_layout()\n",
    "plt.show()\n"
   ]
  },
  {
   "cell_type": "markdown",
   "id": "30142f39",
   "metadata": {},
   "source": [
    "## Visualization 3: Market Trends Combo Chart"
   ]
  },
  {
   "cell_type": "code",
   "execution_count": null,
   "id": "7cfc314c",
   "metadata": {},
   "outputs": [],
   "source": [
    "\n",
    "# Prepare data for combo chart\n",
    "market_trends['Rolling_Avg_Price'] = market_trends['Average_Price'].rolling(window=6).mean()\n",
    "\n",
    "# Plot the market trends\n",
    "fig, ax1 = plt.subplots(figsize=(12, 6))\n",
    "\n",
    "# Line plot for rolling average price\n",
    "ax1.plot(market_trends['Date'], market_trends['Rolling_Avg_Price'], color='green', label='Rolling Avg Price')\n",
    "ax1.set_xlabel('Date', fontsize=12)\n",
    "ax1.set_ylabel('Rolling Avg Price', fontsize=12)\n",
    "ax1.tick_params(axis='x', rotation=45)\n",
    "ax1.grid(axis='both', linestyle='--', alpha=0.7)\n",
    "\n",
    "# Twin axis for interest rates\n",
    "ax2 = ax1.twinx()\n",
    "ax2.plot(market_trends['Date'], market_trends['Interest_Rate'], color='red', linestyle='--', label='Interest Rate')\n",
    "ax2.set_ylabel('Interest Rate (%)', fontsize=12)\n",
    "\n",
    "# Add legends\n",
    "ax1.legend(loc='upper left')\n",
    "ax2.legend(loc='upper right')\n",
    "\n",
    "plt.title('Market Trends: Rolling Average Price and Interest Rates', fontsize=14)\n",
    "plt.tight_layout()\n",
    "plt.show()\n"
   ]
  }
 ],
 "metadata": {},
 "nbformat": 4,
 "nbformat_minor": 5
}
